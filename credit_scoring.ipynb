{
 "cells": [
  {
   "cell_type": "markdown",
   "metadata": {},
   "source": [
    "# Credit Scoring Model\n",
    "\n",
    "This notebook demonstrates a credit scoring model using machine learning techniques to predict creditworthiness based on various financial features."
   ]
  },
  {
   "cell_type": "markdown",
   "metadata": {},
   "source": [
    "## 1. Import Libraries"
   ]
  },
  {
   "cell_type": "code",
   "execution_count": null,
   "metadata": {},
   "outputs": [],
   "source": [
    "import numpy as np\n",
    "import pandas as pd\n",
    "from sklearn.model_selection import train_test_split\n",
    "from sklearn.preprocessing import StandardScaler\n",
    "from sklearn.linear_model import LogisticRegression\n",
    "from sklearn.tree import DecisionTreeClassifier\n",
    "from sklearn.ensemble import RandomForestClassifier\n",
    "from sklearn.metrics import precision_score, recall_score, f1_score, roc_auc_score, classification_report\n",
    "import matplotlib.pyplot as plt\n",
    "import seaborn as sns"
   ]
  },
  {
   "cell_type": "markdown",
   "metadata": {},
   "source": [
    "## 2. Data Simulation\n",
    "\n",
    "We'll simulate a dataset with features relevant to credit scoring: income, debts, payment history, and age."
   ]
  },
  {
   "cell_type": "code",
   "execution_count": null,
   "metadata": {},
   "outputs": [
    {
     "name": "stdout",
     "output_type": "stream",
     "text": [
      "First 5 rows of simulated data:\n",
      "         income         debts  payment_history  age  creditworthy\n",
      "0  57450.712295  21996.777183                1   32             1\n",
      "1  47926.035482  19623.168415                0   27             1\n",
      "2  59715.328072  15298.151850                1   23             1\n",
      "3  72845.447846  11765.316111                0   30             1\n",
      "4  46487.699379  18491.116568                0   54             1\n"
     ]
    }
   ],
   "source": [
    "def simulate_data(n_samples=1000, random_state=42):\n",
    "    np.random.seed(random_state)\n",
    "    income = np.random.normal(50000, 15000, n_samples)\n",
    "    debts = np.random.normal(15000, 5000, n_samples)\n",
    "    payment_history = np.random.randint(0, 2, n_samples)  # 0: bad, 1: good\n",
    "    age = np.random.randint(21, 65, n_samples)\n",
    "    # Creditworthy if income high, debts low, good payment history\n",
    "    creditworthy = (\n",
    "        (income > 45000).astype(int) +\n",
    "        (debts < 20000).astype(int) +\n",
    "        payment_history\n",
    "    )\n",
    "    creditworthy = (creditworthy >= 2).astype(int)\n",
    "    data = pd.DataFrame({\n",
    "        'income': income,\n",
    "        'debts': debts,\n",
    "        'payment_history': payment_history,\n",
    "        'age': age,\n",
    "        'creditworthy': creditworthy\n",
    "    })\n",
    "    return data\n",
    "\n",
    "data = simulate_data()\n",
    "print('First 5 rows of simulated data:')\n",
    "print(data.head())"
   ]
  },
  {
   "cell_type": "markdown",
   "metadata": {},
   "source": [
    "## 3. Feature Engineering\n",
    "\n",
    "Create additional features that might be useful for credit scoring."
   ]
  },
  {
   "cell_type": "code",
   "execution_count": null,
   "metadata": {},
   "outputs": [
    {
     "name": "stdout",
     "output_type": "stream",
     "text": [
      "Dataset shape after feature engineering:\n",
      "(1000, 6)\n",
      "\n",
      "Feature names:\n",
      "['income', 'debts', 'payment_history', 'age', 'creditworthy', 'debt_to_income']\n"
     ]
    }
   ],
   "source": [
    "# Create debt-to-income ratio\n",
    "data['debt_to_income'] = data['debts'] / data['income']\n",
    "\n",
    "print('Dataset shape after feature engineering:')\n",
    "print(data.shape)\n",
    "print('\\nFeature names:')\n",
    "print(data.columns.tolist())"
   ]
  },
  {
   "cell_type": "markdown",
   "metadata": {},
   "source": [
    "## 4. Data Splitting\n",
    "\n",
    "Split the data into training and testing sets."
   ]
  },
  {
   "cell_type": "code",
   "execution_count": null,
   "metadata": {},
   "outputs": [
    {
     "name": "stdout",
     "output_type": "stream",
     "text": [
      "Training set shape: (800, 5)\n",
      "Testing set shape: (200, 5)\n",
      "\n",
      "Class distribution in training set:\n",
      "creditworthy\n",
      "1    577\n",
      "0    223\n",
      "Name: count, dtype: int64\n"
     ]
    }
   ],
   "source": [
    "# Split data\n",
    "X = data.drop('creditworthy', axis=1)\n",
    "y = data['creditworthy']\n",
    "X_train, X_test, y_train, y_test = train_test_split(X, y, test_size=0.2, random_state=42)\n",
    "\n",
    "# Ensure X_train and X_test are DataFrames, y_train and y_test are Series\n",
    "X_train = pd.DataFrame(X_train)\n",
    "X_test = pd.DataFrame(X_test)\n",
    "y_train = pd.Series(y_train, name='creditworthy')\n",
    "y_test = pd.Series(y_test, name='creditworthy')\n",
    "\n",
    "print('Training set shape:', X_train.shape)\n",
    "print('Testing set shape:', X_test.shape)\n",
    "print('\\nClass distribution in training set:')\n",
    "print(y_train.value_counts())"
   ]
  },
  {
   "cell_type": "markdown",
   "metadata": {},
   "source": [
    "## 5. Save Datasets\n",
    "\n",
    "Save the training and testing datasets as CSV files for future use."
   ]
  },
  {
   "cell_type": "code",
   "execution_count": null,
   "metadata": {},
   "outputs": [
    {
     "name": "stdout",
     "output_type": "stream",
     "text": [
      "Datasets saved successfully!\n",
      "- train_data.csv\n",
      "- test_data.csv\n"
     ]
    }
   ],
   "source": [
    "# Save train and test datasets as CSV\n",
    "train_data = pd.concat([X_train, y_train], axis=1)\n",
    "train_data.to_csv('train_data.csv', index=False)\n",
    "\n",
    "test_data = pd.concat([X_test, y_test], axis=1)\n",
    "test_data.to_csv('test_data.csv', index=False)\n",
    "\n",
    "print('Datasets saved successfully!')\n",
    "print('- train_data.csv')\n",
    "print('- test_data.csv')"
   ]
  },
  {
   "cell_type": "markdown",
   "metadata": {},
   "source": [
    "## 6. Feature Scaling\n",
    "\n",
    "Scale the features to ensure all models perform optimally."
   ]
  },
  {
   "cell_type": "code",
   "execution_count": null,
   "metadata": {},
   "outputs": [
    {
     "name": "stdout",
     "output_type": "stream",
     "text": [
      "Features scaled successfully!\n",
      "Training set scaled shape: (800, 5)\n",
      "Testing set scaled shape: (200, 5)\n"
     ]
    }
   ],
   "source": [
    "# Scale features\n",
    "scaler = StandardScaler()\n",
    "X_train_scaled = scaler.fit_transform(X_train)\n",
    "X_test_scaled = scaler.transform(X_test)\n",
    "\n",
    "print('Features scaled successfully!')\n",
    "print('Training set scaled shape:', X_train_scaled.shape)\n",
    "print('Testing set scaled shape:', X_test_scaled.shape)"
   ]
  },
  {
   "cell_type": "markdown",
   "metadata": {},
   "source": [
    "## 7. Model Training and Evaluation\n",
    "\n",
    "Train multiple models and evaluate their performance."
   ]
  },
  {
   "cell_type": "code",
   "execution_count": null,
   "metadata": {},
   "outputs": [
    {
     "name": "stdout",
     "output_type": "stream",
     "text": [
      "\n",
      "Logistic Regression Results:\n",
      "==================================================\n",
      "\n",
      "Classification Report:\n",
      "              precision    recall  f1-score   support\n",
      "\n",
      "           0       0.93      0.75      0.83        56\n",
      "           1       0.91      0.98      0.94       144\n",
      "\n",
      "    accuracy                           0.92       200\n",
      "   macro avg       0.92      0.86      0.89       200\n",
      "weighted avg       0.92      0.92      0.91       200\n",
      "\n",
      "\n",
      "Decision Tree Results:\n",
      "==================================================\n",
      "\n",
      "Classification Report:\n",
      "              precision    recall  f1-score   support\n",
      "\n",
      "           0       0.98      1.00      0.99        56\n",
      "           1       1.00      0.99      1.00       144\n",
      "\n",
      "    accuracy                           0.99       200\n",
      "   macro avg       0.99      1.00      0.99       200\n",
      "weighted avg       1.00      0.99      1.00       200\n",
      "\n",
      "\n",
      "Random Forest Results:\n",
      "==================================================\n",
      "\n",
      "Classification Report:\n",
      "              precision    recall  f1-score   support\n",
      "\n",
      "           0       0.98      1.00      0.99        56\n",
      "           1       1.00      0.99      1.00       144\n",
      "\n",
      "    accuracy                           0.99       200\n",
      "   macro avg       0.99      1.00      0.99       200\n",
      "weighted avg       1.00      0.99      1.00       200\n",
      "\n"
     ]
    }
   ],
   "source": [
    "def train_and_evaluate(model, X_train, y_train, X_test, y_test):\n",
    "    model.fit(X_train, y_train)\n",
    "    y_pred = model.predict(X_test)\n",
    "    y_proba = model.predict_proba(X_test)[:, 1] if hasattr(model, 'predict_proba') else y_pred\n",
    "    results = {\n",
    "        'Precision': precision_score(y_test, y_pred),\n",
    "        'Recall': recall_score(y_test, y_pred),\n",
    "        'F1-Score': f1_score(y_test, y_pred),\n",
    "        'ROC-AUC': roc_auc_score(y_test, y_proba)\n",
    "    }\n",
    "    return results, classification_report(y_test, y_pred)\n",
    "\n",
    "models = {\n",
    "    'Logistic Regression': LogisticRegression(),\n",
    "    'Decision Tree': DecisionTreeClassifier(),\n",
    "    'Random Forest': RandomForestClassifier()\n",
    "}\n",
    "\n",
    "all_results = {}\n",
    "for name, model in models.items():\n",
    "    print(f'\\n{name} Results:')\n",
    "    print('=' * 50)\n",
    "    results, report = train_and_evaluate(model, X_train_scaled, y_train, X_test_scaled, y_test)\n",
    "    all_results[name] = results\n",
    "    print(f'\\nClassification Report:\\n{report}')"
   ]
  },
  {
   "cell_type": "markdown",
   "metadata": {},
   "source": [
    "## 8. Model Comparison\n",
    "\n",
    "Compare the performance of all models."
   ]
  },
  {
   "cell_type": "code",
   "execution_count": null,
   "metadata": {},
   "outputs": [
    {
     "name": "stdout",
     "output_type": "stream",
     "text": [
      "\n",
      "Model Comparison:\n",
      "                     Precision  Recall  F1-Score  ROC-AUC\n",
      "Logistic Regression     0.9097  0.9792    0.9431   0.9596\n",
      "Decision Tree           1.0000  0.9931    0.9965   0.9965\n",
      "Random Forest           1.0000  0.9931    0.9965   1.0000\n"
     ]
    }
   ],
   "source": [
    "# Display results\n",
    "df_results = pd.DataFrame(all_results).T\n",
    "print('\\nModel Comparison:')\n",
    "print(df_results.round(4))"
   ]
  },
  {
   "cell_type": "markdown",
   "metadata": {},
   "source": [
    "## 9. Visualization\n",
    "\n",
    "Create visualizations to compare model performance."
   ]
  },
  {
   "cell_type": "code",
   "execution_count": null,
   "metadata": {},
   "outputs": [
    {
     "data": {
      "image/png": "[encoded data removed]",
      "text/plain": [
       "<Figure size 1000x600 with 1 Axes>"
      ]
     },
     "metadata": {},
     "output_type": "display_data"
    }
   ],
   "source": [
    "# Plot results\n",
    "plt.figure(figsize=(10, 6))\n",
    "sns.barplot(data=df_results.reset_index().melt(id_vars='index'), \n",
    "            x='index', y='value', hue='variable')\n",
    "plt.title('Model Performance Comparison', fontsize=14, fontweight='bold')\n",
    "plt.ylabel('Score', fontsize=12)\n",
    "plt.xlabel('Model', fontsize=12)\n",
    "plt.legend(title='Metric', title_fontsize=12)\n",
    "plt.xticks(rotation=45)\n",
    "plt.tight_layout()\n",
    "plt.show()"
   ]
  },
  {
   "cell_type": "markdown",
   "metadata": {},
   "source": [
    "## 10. Feature Importance Analysis\n",
    "\n",
    "Analyze which features are most important for credit scoring (using Random Forest)."
   ]
  },
  {
   "cell_type": "code",
   "execution_count": null,
   "metadata": {},
   "outputs": [
    {
     "name": "stdout",
     "output_type": "stream",
     "text": [
      "Feature Importance (Random Forest):\n",
      "           feature  importance\n",
      "2  payment_history    0.317650\n",
      "0           income    0.279532\n",
      "4   debt_to_income    0.195958\n",
      "1            debts    0.189502\n",
      "3              age    0.017358\n"
     ]
    },
    {
     "data": {
      "image/png": "[encoded data removed]",
      "text/plain": [
       "<Figure size 800x600 with 1 Axes>"
      ]
     },
     "metadata": {},
     "output_type": "display_data"
    }
   ],
   "source": [
    "# Get feature importance from Random Forest\n",
    "rf_model = models['Random Forest']\n",
    "feature_importance = pd.DataFrame({\n",
    "    'feature': X_train.columns,\n",
    "    'importance': rf_model.feature_importances_\n",
    "}).sort_values('importance', ascending=False)\n",
    "\n",
    "print('Feature Importance (Random Forest):')\n",
    "print(feature_importance)\n",
    "\n",
    "# Plot feature importance\n",
    "plt.figure(figsize=(8, 6))\n",
    "sns.barplot(data=feature_importance, x='importance', y='feature')\n",
    "plt.title('Feature Importance for Credit Scoring', fontsize=14, fontweight='bold')\n",
    "plt.xlabel('Importance', fontsize=12)\n",
    "plt.ylabel('Feature', fontsize=12)\n",
    "plt.tight_layout()\n",
    "plt.show()"
   ]
  },
  {
   "cell_type": "markdown",
   "metadata": {},
   "source": [
    "## Summary\n",
    "\n",
    "This notebook demonstrates a complete credit scoring pipeline:\n",
    "\n",
    "1. **Data Simulation**: Created realistic credit data with income, debts, payment history, and age\n",
    "2. **Feature Engineering**: Added debt-to-income ratio\n",
    "3. **Data Preprocessing**: Split data and scaled features\n",
    "4. **Model Training**: Trained Logistic Regression, Decision Tree, and Random Forest models\n",
    "5. **Evaluation**: Compared models using precision, recall, F1-score, and ROC-AUC\n",
    "6. **Visualization**: Created performance comparison charts and feature importance analysis\n",
    "\n",
    "The Random Forest model typically performs best for this type of credit scoring task, providing good balance between interpretability and performance."
   ]
  }
 ],
 "metadata": {
  "kernelspec": {
   "display_name": "Python 3 (ipykernel)",
   "language": "python",
   "name": "python3"
  },
  "language_info": {
   "codemirror_mode": {
    "name": "ipython",
    "version": 3
   },
   "file_extension": ".py",
   "mimetype": "text/x-python",
   "name": "python",
   "nbconvert_exporter": "python",
   "pygments_lexer": "ipython3",
   "version": "3.11.8"
  }
 },
 "nbformat": 4,
 "nbformat_minor": 4
}
